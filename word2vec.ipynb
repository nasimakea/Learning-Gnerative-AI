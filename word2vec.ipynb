{
 "cells": [
  {
   "cell_type": "code",
   "execution_count": null,
   "metadata": {},
   "outputs": [],
   "source": []
  },
  {
   "cell_type": "code",
   "execution_count": 2,
   "metadata": {},
   "outputs": [],
   "source": [
    "import nltk\n",
    "from gensim.models import Word2Vec\n",
    "from nltk.corpus import stopwords\n",
    "from nltk.tokenize import sent_tokenize\n",
    "import re"
   ]
  },
  {
   "cell_type": "code",
   "execution_count": 11,
   "metadata": {},
   "outputs": [],
   "source": [
    "paragraph = \"\"\"I have three visions for India. In 3000 years of our history, people from all over \n",
    "               the world have come and invaded us, captured our lands, conquered our minds. \n",
    "               From Alexander onwards, the Greeks, the Turks, the Moguls, the Portuguese, the British,\n",
    "               the French, the Dutch, all of them came and looted us, took over what was ours. \n",
    "               Yet we have not done this to any other nation. We have not conquered anyone. \n",
    "               We have not grabbed their land, their culture, \n",
    "               their history and tried to enforce our way of life on them. \n",
    "               Why? Because we respect the freedom of others.That is why my \n",
    "               first vision is that of freedom. I believe that India got its first vision of \n",
    "               this in 1857, when we started the War of Independence. It is this freedom that\n",
    "               we must protect and nurture and build on. If we are not free, no one will respect us.\n",
    "               My second vision for India’s development. For fifty years we have been a developing nation.\n",
    "               It is time we see ourselves as a developed nation. We are among the top 5 nations of the world\n",
    "               in terms of GDP. We have a 10 percent growth rate in most areas. Our poverty levels are falling.\n",
    "               Our achievements are being globally recognised today. Yet we lack the self-confidence to\n",
    "               see ourselves as a developed nation, self-reliant and self-assured. Isn’t this incorrect?\n",
    "               I have a third vision. India must stand up to the world. Because I believe that unless India \n",
    "               stands up to the world, no one will respect us. Only strength respects strength. We must be \n",
    "               strong not only as a military power but also as an economic power. Both must go hand-in-hand. \n",
    "               My good fortune was to have worked with three great minds. Dr. Vikram Sarabhai of the Dept. of \n",
    "               space, Professor Satish Dhawan, who succeeded him and Dr. Brahm Prakash, father of nuclear material.\n",
    "               I was lucky to have worked with all three of them closely and consider this the great opportunity of my life. \n",
    "               I see four milestones in my career\"\"\""
   ]
  },
  {
   "cell_type": "code",
   "execution_count": 17,
   "metadata": {},
   "outputs": [
    {
     "data": {
      "text/plain": [
       "['  h v e   h r e e   v n   f r   n  ',\n",
       " 'n             e r   f   u r   h r     p e p l e   f r   l l   v e r                                   h e   w r l   h v e   c e   n   n v e   u     c p u r e   u r   l n     c n q u e r e   u r   n  ',\n",
       " 'f r   l e x n e r   n w r     h e   g r e e k     h e   u r k     h e   g u l     h e   p r u g u e e     h e   b r h                                   h e   f r e n c h     h e   u c h     l l   f   h e   c e   n   l e   u     k   v e r   w h   w   u r  ',\n",
       " 'e   w e   h v e   n   n e   h     n   h e r   n n  ',\n",
       " 'w e   h v e   n   c n q u e r e   n n e  ',\n",
       " 'w e   h v e   n   g r b b e   h e r   l n     h e r   c u l u r e                                     h e r   h r   n   r e     e n f r c e   u r   w   f   l f e   n   h e  ',\n",
       " 'w h  ',\n",
       " 'b e c u e   w e   r e p e c   h e   f r e e   f   h e r   h     w h                                     f r   v n     h   f   f r e e  ',\n",
       " '  b e l e v e   h   n   g     f r   v n   f                                   h   n               w h e n   w e   r e   h e   w r   f   n e p e n e n c e  ',\n",
       " '    h   f r e e   h                                 w e   u   p r e c   n   n u r u r e   n   b u l   n  ',\n",
       " 'f   w e   r e   n   f r e e     n   n e   w l l   r e p e c   u  ',\n",
       " '  e c n   v n   f r   n     e v e l p e n  ',\n",
       " 'f r   f f   e r   w e   h v e   b e e n     e v e l p n g   n n  ',\n",
       " '    e   w e   e e   u r e l v e       e v e l p e   n n  ',\n",
       " 'w e   r e   n g   h e   p       n n   f   h e   w r l                                 n   e r   f   g p  ',\n",
       " 'w e   h v e           p e r c e n   g r w h   r e   n     r e  ',\n",
       " 'u r   p v e r   l e v e l   r e   f l l n g  ',\n",
       " 'u r   c h e v e e n   r e   b e n g   g l b l l   r e c g n e    ',\n",
       " 'e   w e   l c k   h e   e l f   c n f e n c e                                   e e   u r e l v e       e v e l p e   n n     e l f   r e l n   n   e l f   u r e  ',\n",
       " 'n     h   n c r r e c  ',\n",
       " '  h v e     h r   v n  ',\n",
       " 'n   u   n   u p     h e   w r l  ',\n",
       " 'b e c u e     b e l e v e   h   u n l e   n                                   n   u p     h e   w r l     n   n e   w l l   r e p e c   u  ',\n",
       " 'n l   r e n g h   r e p e c   r e n g h  ',\n",
       " 'w e   u   b e                                   r n g   n   n l       l r   p w e r   b u   l     n   e c n c   p w e r  ',\n",
       " 'b h   u   g   h n   n   h n  ',\n",
       " '  g   f r u n e   w     h v e   w r k e   w h   h r e e   g r e   n  ',\n",
       " 'r     v k r   r b h   f   h e   e p  ',\n",
       " 'f                                   p c e     p r f e r   h   h w n     w h   u c c e e e   h   n   r     b r h   p r k h     f h e r   f   n u c l e r   e r l  ',\n",
       " '  w   l u c k     h v e   w r k e   w h   l l   h r e e   f   h e   c l e l   n   c n e r   h   h e   g r e   p p r u n   f     l f e  ',\n",
       " '  e e   f u r   l e n e   n     c r e e r']"
      ]
     },
     "execution_count": 17,
     "metadata": {},
     "output_type": "execute_result"
    }
   ],
   "source": [
    "words_vocab=[]\n",
    "l1=[]\n",
    "for i in nltk.sent_tokenize(paragraph):\n",
    "    text=re.sub('[^a-zA-Z]',' ',i)\n",
    "    text=text.lower()\n",
    "\n",
    "    text=[word for word in text if word not in set(stopwords.words('english'))]\n",
    "    lemma=nltk.WordNetLemmatizer()\n",
    "    text=[lemma.lemmatize(word) for word in text]\n",
    "    text=' '.join(text)\n",
    "    words_vocab.append(text)\n",
    "words_vocab\n"
   ]
  },
  {
   "cell_type": "code",
   "execution_count": 34,
   "metadata": {},
   "outputs": [
    {
     "data": {
      "text/plain": [
       "['three vision india',\n",
       " 'year history people world come invaded u captured land conquered mind',\n",
       " 'alexander onwards greek turk mogul portuguese british french dutch came looted u took',\n",
       " 'yet done nation',\n",
       " 'conquered anyone',\n",
       " 'grabbed land culture history tried enforce way life',\n",
       " '',\n",
       " 'respect freedom others first vision freedom',\n",
       " 'believe india got first vision started war independence',\n",
       " 'freedom must protect nurture build',\n",
       " 'free one respect u',\n",
       " 'second vision india development',\n",
       " 'fifty year developing nation',\n",
       " 'time see developed nation',\n",
       " 'among top nation world term gdp',\n",
       " 'percent growth rate area',\n",
       " 'poverty level falling',\n",
       " 'achievement globally recognised today',\n",
       " 'yet lack self confidence see developed nation self reliant self assured',\n",
       " 'incorrect',\n",
       " 'third vision',\n",
       " 'india must stand world',\n",
       " 'believe unless india stand world one respect u',\n",
       " 'strength respect strength',\n",
       " 'must strong military power also economic power',\n",
       " 'must go hand hand',\n",
       " 'good fortune worked three great mind',\n",
       " 'dr vikram sarabhai dept',\n",
       " 'space professor satish dhawan succeeded dr brahm prakash father nuclear material',\n",
       " 'lucky worked three closely consider great opportunity life',\n",
       " 'see four milestone career']"
      ]
     },
     "execution_count": 34,
     "metadata": {},
     "output_type": "execute_result"
    }
   ],
   "source": [
    "list_of_voc=[]\n",
    "for i in nltk.sent_tokenize(paragraph):\n",
    "    text=re.sub('[^a-zA-Z]',' ',i)\n",
    "    \n",
    "    text=text.lower().split()\n",
    "    \n",
    "    text=[word for word in text if word not in set(stopwords.words(\"english\")) ]\n",
    "    \n",
    "    lemma=nltk.WordNetLemmatizer()\n",
    "    text=[lemma.lemmatize(word) for word in text if word not in set(stopwords.words(\"english\"))]\n",
    "    text=' '.join(text)\n",
    "    list_of_voc.append(text)\n",
    "    \n",
    "list_of_voc\n",
    "\n"
   ]
  },
  {
   "cell_type": "code",
   "execution_count": 35,
   "metadata": {},
   "outputs": [],
   "source": [
    "model=Word2Vec(list_of_voc,min_count=1)"
   ]
  },
  {
   "cell_type": "code",
   "execution_count": 39,
   "metadata": {},
   "outputs": [
    {
     "data": {
      "text/plain": [
       "10000"
      ]
     },
     "execution_count": 39,
     "metadata": {},
     "output_type": "execute_result"
    }
   ],
   "source": [
    "model.batch_words"
   ]
  },
  {
   "cell_type": "code",
   "execution_count": 42,
   "metadata": {},
   "outputs": [
    {
     "data": {
      "text/plain": [
       "[('x', 0.04011013),\n",
       " ('q', 0.040104985),\n",
       " ('k', 0.04010168),\n",
       " ('b', 0.04007508),\n",
       " ('f', 0.04006157),\n",
       " ('w', 0.04005811),\n",
       " ('v', 0.040056452),\n",
       " ('p', 0.040054254),\n",
       " ('g', 0.040053073),\n",
       " ('y', 0.040045712)]"
      ]
     },
     "execution_count": 42,
     "metadata": {},
     "output_type": "execute_result"
    }
   ],
   "source": [
    "model.predict_output_word([\"i\",\"Nasim\",\"Akram\"])"
   ]
  },
  {
   "cell_type": "code",
   "execution_count": null,
   "metadata": {},
   "outputs": [
    {
     "ename": "AttributeError",
     "evalue": "This method should be called on a class object.",
     "output_type": "error",
     "traceback": [
      "\u001b[1;31m---------------------------------------------------------------------------\u001b[0m",
      "\u001b[1;31mAttributeError\u001b[0m                            Traceback (most recent call last)",
      "Cell \u001b[1;32mIn[48], line 1\u001b[0m\n\u001b[1;32m----> 1\u001b[0m \u001b[38;5;28;01mfor\u001b[39;00m i \u001b[38;5;129;01min\u001b[39;00m model\u001b[38;5;241m.\u001b[39mload():\n\u001b[0;32m      2\u001b[0m     \u001b[38;5;28mprint\u001b[39m(i)\n",
      "File \u001b[1;32mc:\\Users\\nasim\\anaconda3\\Lib\\site-packages\\gensim\\utils.py:387\u001b[0m, in \u001b[0;36mcall_on_class_only\u001b[1;34m(*args, **kwargs)\u001b[0m\n\u001b[0;32m    371\u001b[0m \u001b[38;5;28;01mdef\u001b[39;00m \u001b[38;5;21mcall_on_class_only\u001b[39m(\u001b[38;5;241m*\u001b[39margs, \u001b[38;5;241m*\u001b[39m\u001b[38;5;241m*\u001b[39mkwargs):\n\u001b[0;32m    372\u001b[0m \u001b[38;5;250m    \u001b[39m\u001b[38;5;124;03m\"\"\"Helper to raise `AttributeError` if a class method is called on an instance. Used internally.\u001b[39;00m\n\u001b[0;32m    373\u001b[0m \n\u001b[0;32m    374\u001b[0m \u001b[38;5;124;03m    Parameters\u001b[39;00m\n\u001b[1;32m   (...)\u001b[0m\n\u001b[0;32m    385\u001b[0m \n\u001b[0;32m    386\u001b[0m \u001b[38;5;124;03m    \"\"\"\u001b[39;00m\n\u001b[1;32m--> 387\u001b[0m     \u001b[38;5;28;01mraise\u001b[39;00m \u001b[38;5;167;01mAttributeError\u001b[39;00m(\u001b[38;5;124m'\u001b[39m\u001b[38;5;124mThis method should be called on a class object.\u001b[39m\u001b[38;5;124m'\u001b[39m)\n",
      "\u001b[1;31mAttributeError\u001b[0m: This method should be called on a class object."
     ]
    }
   ],
   "source": []
  },
  {
   "cell_type": "code",
   "execution_count": null,
   "metadata": {},
   "outputs": [],
   "source": []
  }
 ],
 "metadata": {
  "kernelspec": {
   "display_name": "base",
   "language": "python",
   "name": "python3"
  },
  "language_info": {
   "codemirror_mode": {
    "name": "ipython",
    "version": 3
   },
   "file_extension": ".py",
   "mimetype": "text/x-python",
   "name": "python",
   "nbconvert_exporter": "python",
   "pygments_lexer": "ipython3",
   "version": "3.11.3"
  }
 },
 "nbformat": 4,
 "nbformat_minor": 2
}
