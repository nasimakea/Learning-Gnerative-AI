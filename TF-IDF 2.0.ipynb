{
 "cells": [
  {
   "cell_type": "markdown",
   "metadata": {},
   "source": [
    "# BOW and TF-IDF implementation"
   ]
  },
  {
   "cell_type": "code",
   "execution_count": 1,
   "metadata": {},
   "outputs": [],
   "source": [
    "a=\"Let's learn TF-IDF , wo it's so exciting\""
   ]
  },
  {
   "cell_type": "code",
   "execution_count": 6,
   "metadata": {},
   "outputs": [],
   "source": [
    "# How to find unqie words in doccument in your corpus\n",
    "# Vocab\n",
    "corpus=['This is the first sentence in your corpus followed by one more sentence to demonstrate Bag of Words',\n",
    "        \"This is the second sentence in our corpus with a FEW UPPER WORDS and Few title case Words\"]"
   ]
  },
  {
   "cell_type": "code",
   "execution_count": 7,
   "metadata": {},
   "outputs": [
    {
     "data": {
      "text/plain": [
       "['This is the first sentence in your corpus followed by one more sentence to demonstrate Bag of Words',\n",
       " 'This is the second sentence in our corpus with a FEW UPPER WORDS and Few title case Words']"
      ]
     },
     "execution_count": 7,
     "metadata": {},
     "output_type": "execute_result"
    }
   ],
   "source": [
    "corpus"
   ]
  },
  {
   "cell_type": "code",
   "execution_count": 8,
   "metadata": {},
   "outputs": [
    {
     "data": {
      "text/plain": [
       "list"
      ]
     },
     "execution_count": 8,
     "metadata": {},
     "output_type": "execute_result"
    }
   ],
   "source": [
    "type(corpus)"
   ]
  },
  {
   "cell_type": "code",
   "execution_count": 30,
   "metadata": {},
   "outputs": [
    {
     "name": "stdout",
     "output_type": "stream",
     "text": [
      "['a', 'and', 'bag', 'by', 'case', 'corpus', 'demonstrate', 'few', 'first', 'followed', 'in', 'is', 'more', 'of', 'one', 'our', 'second', 'sentence', 'the', 'this', 'title', 'to', 'upper', 'with', 'words', 'your']\n",
      "total_words are 36\n",
      "total unqiue words 26\n",
      "Number of repeated words 10\n"
     ]
    }
   ],
   "source": [
    "vocab=[]\n",
    "total_words=0\n",
    "for sentence in corpus :\n",
    "    sentence=sentence.lower()\n",
    "    token_temp=sentence.split()\n",
    "    total_words=total_words +len(token_temp)\n",
    "    for i in range(len(token_temp)):\n",
    "        if token_temp[i] not in vocab:\n",
    "            vocab.append(token_temp[i])\n",
    "\n",
    "vocab.sort()\n",
    "print(vocab)\n",
    "print(f\"total_words are {total_words}\" )\n",
    "print(f\"total unqiue words {len(vocab)}\")\n",
    "print(f\"Number of repeated words {total_words-len(vocab)}\")"
   ]
  },
  {
   "cell_type": "code",
   "execution_count": 25,
   "metadata": {},
   "outputs": [
    {
     "data": {
      "text/plain": [
       "['This',\n",
       " 'is',\n",
       " 'the',\n",
       " 'first',\n",
       " 'sentence',\n",
       " 'in',\n",
       " 'your',\n",
       " 'corpus',\n",
       " 'followed',\n",
       " 'by',\n",
       " 'one',\n",
       " 'more',\n",
       " 'to',\n",
       " 'demonstrate',\n",
       " 'Bag',\n",
       " 'of',\n",
       " 'Words']"
      ]
     },
     "execution_count": 25,
     "metadata": {},
     "output_type": "execute_result"
    }
   ],
   "source": [
    "voc=[]\n",
    "for i in l1:\n",
    "    if i not in voc:\n",
    "        voc.append(i)\n",
    "\n",
    "voc"
   ]
  },
  {
   "cell_type": "code",
   "execution_count": 20,
   "metadata": {},
   "outputs": [],
   "source": [
    "l1=corpus[0].split()"
   ]
  },
  {
   "cell_type": "code",
   "execution_count": 21,
   "metadata": {},
   "outputs": [
    {
     "data": {
      "text/plain": [
       "['This',\n",
       " 'is',\n",
       " 'the',\n",
       " 'first',\n",
       " 'sentence',\n",
       " 'in',\n",
       " 'your',\n",
       " 'corpus',\n",
       " 'followed',\n",
       " 'by',\n",
       " 'one',\n",
       " 'more',\n",
       " 'sentence',\n",
       " 'to',\n",
       " 'demonstrate',\n",
       " 'Bag',\n",
       " 'of',\n",
       " 'Words']"
      ]
     },
     "execution_count": 21,
     "metadata": {},
     "output_type": "execute_result"
    }
   ],
   "source": [
    "l1\n"
   ]
  },
  {
   "cell_type": "code",
   "execution_count": 26,
   "metadata": {},
   "outputs": [
    {
     "data": {
      "text/plain": [
       "['Bag',\n",
       " 'FEW',\n",
       " 'Few',\n",
       " 'This',\n",
       " 'UPPER',\n",
       " 'WORDS',\n",
       " 'Words',\n",
       " 'a',\n",
       " 'and',\n",
       " 'by',\n",
       " 'case',\n",
       " 'corpus',\n",
       " 'demonstrate',\n",
       " 'first',\n",
       " 'followed',\n",
       " 'in',\n",
       " 'is',\n",
       " 'more',\n",
       " 'of',\n",
       " 'one',\n",
       " 'our',\n",
       " 'second',\n",
       " 'sentence',\n",
       " 'the',\n",
       " 'title',\n",
       " 'to',\n",
       " 'with',\n",
       " 'your']"
      ]
     },
     "execution_count": 26,
     "metadata": {},
     "output_type": "execute_result"
    }
   ],
   "source": [
    "vocab"
   ]
  },
  {
   "cell_type": "code",
   "execution_count": null,
   "metadata": {},
   "outputs": [],
   "source": []
  },
  {
   "cell_type": "code",
   "execution_count": null,
   "metadata": {},
   "outputs": [],
   "source": []
  },
  {
   "cell_type": "code",
   "execution_count": null,
   "metadata": {},
   "outputs": [],
   "source": []
  },
  {
   "cell_type": "code",
   "execution_count": null,
   "metadata": {},
   "outputs": [],
   "source": []
  },
  {
   "cell_type": "code",
   "execution_count": null,
   "metadata": {},
   "outputs": [],
   "source": []
  },
  {
   "cell_type": "code",
   "execution_count": null,
   "metadata": {},
   "outputs": [],
   "source": []
  },
  {
   "cell_type": "code",
   "execution_count": null,
   "metadata": {},
   "outputs": [],
   "source": []
  },
  {
   "cell_type": "code",
   "execution_count": null,
   "metadata": {},
   "outputs": [],
   "source": []
  },
  {
   "cell_type": "code",
   "execution_count": null,
   "metadata": {},
   "outputs": [],
   "source": []
  },
  {
   "cell_type": "code",
   "execution_count": null,
   "metadata": {},
   "outputs": [],
   "source": []
  },
  {
   "cell_type": "code",
   "execution_count": null,
   "metadata": {},
   "outputs": [],
   "source": []
  },
  {
   "cell_type": "code",
   "execution_count": null,
   "metadata": {},
   "outputs": [],
   "source": []
  },
  {
   "cell_type": "code",
   "execution_count": null,
   "metadata": {},
   "outputs": [],
   "source": []
  }
 ],
 "metadata": {
  "kernelspec": {
   "display_name": "base",
   "language": "python",
   "name": "python3"
  },
  "language_info": {
   "codemirror_mode": {
    "name": "ipython",
    "version": 3
   },
   "file_extension": ".py",
   "mimetype": "text/x-python",
   "name": "python",
   "nbconvert_exporter": "python",
   "pygments_lexer": "ipython3",
   "version": "3.11.3"
  }
 },
 "nbformat": 4,
 "nbformat_minor": 2
}
