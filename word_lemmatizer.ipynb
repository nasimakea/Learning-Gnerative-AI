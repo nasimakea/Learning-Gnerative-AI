{
 "cells": [
  {
   "cell_type": "markdown",
   "metadata": {},
   "source": [
    "a"
   ]
  },
  {
   "cell_type": "markdown",
   "metadata": {},
   "source": [
    "a"
   ]
  },
  {
   "cell_type": "code",
   "execution_count": 2,
   "metadata": {},
   "outputs": [],
   "source": [
    "a=10"
   ]
  },
  {
   "cell_type": "code",
   "execution_count": 3,
   "metadata": {},
   "outputs": [
    {
     "name": "stdout",
     "output_type": "stream",
     "text": [
      "Requirement already satisfied: nltk in c:\\users\\nasim\\anaconda3\\lib\\site-packages (3.7)\n",
      "Requirement already satisfied: click in c:\\users\\nasim\\anaconda3\\lib\\site-packages (from nltk) (8.0.4)\n",
      "Requirement already satisfied: joblib in c:\\users\\nasim\\anaconda3\\lib\\site-packages (from nltk) (1.2.0)\n",
      "Requirement already satisfied: regex>=2021.8.3 in c:\\users\\nasim\\anaconda3\\lib\\site-packages (from nltk) (2022.7.9)\n",
      "Requirement already satisfied: tqdm in c:\\users\\nasim\\anaconda3\\lib\\site-packages (from nltk) (4.65.0)\n",
      "Requirement already satisfied: colorama in c:\\users\\nasim\\anaconda3\\lib\\site-packages (from click->nltk) (0.4.6)\n"
     ]
    }
   ],
   "source": [
    "!pip install nltk"
   ]
  },
  {
   "cell_type": "code",
   "execution_count": 4,
   "metadata": {},
   "outputs": [
    {
     "name": "stderr",
     "output_type": "stream",
     "text": [
      "[nltk_data] Downloading package punkt to\n",
      "[nltk_data]     C:\\Users\\nasim\\AppData\\Roaming\\nltk_data...\n",
      "[nltk_data]   Package punkt is already up-to-date!\n"
     ]
    },
    {
     "data": {
      "text/plain": [
       "True"
      ]
     },
     "execution_count": 4,
     "metadata": {},
     "output_type": "execute_result"
    }
   ],
   "source": [
    "import nltk\n",
    "nltk.download('punkt')"
   ]
  },
  {
   "cell_type": "code",
   "execution_count": 5,
   "metadata": {},
   "outputs": [],
   "source": [
    "from nltk.stem import WordNetLemmatizer"
   ]
  },
  {
   "cell_type": "code",
   "execution_count": 10,
   "metadata": {},
   "outputs": [
    {
     "name": "stderr",
     "output_type": "stream",
     "text": [
      "[nltk_data] Downloading package wordnet to\n",
      "[nltk_data]     C:\\Users\\nasim\\AppData\\Roaming\\nltk_data...\n",
      "[nltk_data]   Package wordnet is already up-to-date!\n",
      "[nltk_data] Downloading package omw-1.4 to\n",
      "[nltk_data]     C:\\Users\\nasim\\AppData\\Roaming\\nltk_data...\n"
     ]
    },
    {
     "data": {
      "text/plain": [
       "True"
      ]
     },
     "execution_count": 10,
     "metadata": {},
     "output_type": "execute_result"
    }
   ],
   "source": [
    "import nltk\n",
    "nltk.download('wordnet')\n",
    "nltk.download('omw-1.4')\n",
    "\n"
   ]
  },
  {
   "cell_type": "code",
   "execution_count": 12,
   "metadata": {},
   "outputs": [],
   "source": [
    "lemmatizer=WordNetLemmatizer()"
   ]
  },
  {
   "cell_type": "code",
   "execution_count": 17,
   "metadata": {},
   "outputs": [
    {
     "data": {
      "text/plain": [
       "'going'"
      ]
     },
     "execution_count": 17,
     "metadata": {},
     "output_type": "execute_result"
    }
   ],
   "source": [
    "'''POS-NOUN-n, VERB-v, ADJ-a, ADV-r,adjective-a'''\n",
    "lemmatizer.lemmatize(\"going\",pos='a')"
   ]
  },
  {
   "cell_type": "code",
   "execution_count": 23,
   "metadata": {},
   "outputs": [],
   "source": [
    "words = [\n",
    "    \"eaten\", \"driven\", \"written\", \"spoken\", \"broken\", \"chosen\", \"fallen\", \"hidden\", \n",
    "    \"forgotten\", \"frozen\", \"given\", \"known\", \"seen\", \"taken\", \"worn\", \"awakened\", \n",
    "    \"beautiful\", \"bright\", \"cold\", \"dangerous\", \"elegant\", \"friendly\", \"gentle\", \n",
    "    \"happy\", \"intelligent\", \"joyful\", \"kind\", \"lively\", \"mysterious\", \"noisy\", \n",
    "    \"peaceful\", \"quick\", \"radiant\", \"strong\", \"thoughtful\", \"unique\", \"vibrant\", \"warm\"\n",
    "]\n"
   ]
  },
  {
   "cell_type": "code",
   "execution_count": 30,
   "metadata": {},
   "outputs": [
    {
     "name": "stdout",
     "output_type": "stream",
     "text": [
      "eaten--->eat\n",
      "driven--->drive\n",
      "written--->write\n",
      "spoken--->speak\n",
      "broken--->break\n",
      "chosen--->choose\n",
      "fallen--->fall\n",
      "hidden--->hide\n",
      "forgotten--->forget\n",
      "frozen--->freeze\n",
      "given--->give\n",
      "known--->know\n",
      "seen--->see\n",
      "taken--->take\n",
      "worn--->wear\n",
      "awakened--->awaken\n",
      "beautiful--->beautiful\n",
      "bright--->bright\n",
      "cold--->cold\n",
      "dangerous--->dangerous\n",
      "elegant--->elegant\n",
      "friendly--->friendly\n",
      "gentle--->gentle\n",
      "happy--->happy\n",
      "intelligent--->intelligent\n",
      "joyful--->joyful\n",
      "kind--->kind\n",
      "lively--->lively\n",
      "mysterious--->mysterious\n",
      "noisy--->noisy\n",
      "peaceful--->peaceful\n",
      "quick--->quick\n",
      "radiant--->radiant\n",
      "strong--->strong\n",
      "thoughtful--->thoughtful\n",
      "unique--->unique\n",
      "vibrant--->vibrant\n",
      "warm--->warm\n"
     ]
    }
   ],
   "source": [
    "for word in words:\n",
    "    print(f\"{word}--->{lemmatizer.lemmatize(word,pos='v')}\")"
   ]
  },
  {
   "cell_type": "code",
   "execution_count": 32,
   "metadata": {},
   "outputs": [
    {
     "data": {
      "text/plain": [
       "'go'"
      ]
     },
     "execution_count": 32,
     "metadata": {},
     "output_type": "execute_result"
    }
   ],
   "source": [
    "lemmatizer.lemmatize(\"goes\",pos='v')"
   ]
  },
  {
   "cell_type": "code",
   "execution_count": null,
   "metadata": {},
   "outputs": [],
   "source": []
  },
  {
   "cell_type": "markdown",
   "metadata": {},
   "source": [
    "Lemmatization vs Stemming in NLP\n",
    "Both lemmatization and stemming are techniques used in Natural Language Processing (NLP) to reduce words to their root form, but they work differently.\n",
    "\n",
    "1. Stemming:\n",
    "It removes prefixes and suffixes to get the root form of a word.\n",
    "\n",
    "The result may not be a valid word.\n",
    "\n",
    "Example:\n",
    "\n",
    "\"running\" → \"run\"\n",
    "\n",
    "\"happily\" → \"happili\"\n",
    "\n",
    "Uses simple rules (e.g., removing ing, ed, etc.).\n",
    "\n",
    "2. Lemmatization:\n",
    "It converts a word to its base or dictionary form (lemma).\n",
    "\n",
    "Uses a vocabulary (dictionary) and considers meaning & context.\n",
    "\n",
    "Example:\n",
    "\n",
    "\"running\" → \"run\"\n",
    "\n",
    "\"better\" → \"good\"\n",
    "\n",
    "More accurate but slower than stemming."
   ]
  },
  {
   "cell_type": "markdown",
   "metadata": {},
   "source": []
  },
  {
   "cell_type": "markdown",
   "metadata": {},
   "source": [
    "import nltk\n",
    "from nltk.stem import PorterStemmer\n",
    "from nltk.stem import WordNetLemmatizer\n",
    "from nltk.corpus import wordnet\n",
    "\n",
    "# Download necessary resources\n",
    "nltk.download('wordnet')\n",
    "nltk.download('omw-1.4')\n",
    "\n",
    "# Initialize stemmer and lemmatizer\n",
    "stemmer = PorterStemmer()\n",
    "lemmatizer = WordNetLemmatizer()\n",
    "\n",
    "# List of words to test\n",
    "words = [\"running\", \"flies\", \"better\", \"swimming\", \"happily\"]\n",
    "\n",
    "print(\"Word | Stemming | Lemmatization\")\n",
    "print(\"-\" * 30)\n",
    "\n",
    "for word in words:\n",
    "    stem = stemmer.stem(word)\n",
    "    lemma = lemmatizer.lemmatize(word, wordnet.VERB)  # Lemmatizing as a verb\n",
    "    print(f\"{word} | {stem} | {lemma}\")\n"
   ]
  },
  {
   "cell_type": "markdown",
   "metadata": {},
   "source": []
  }
 ],
 "metadata": {
  "kernelspec": {
   "display_name": "base",
   "language": "python",
   "name": "python3"
  },
  "language_info": {
   "codemirror_mode": {
    "name": "ipython",
    "version": 3
   },
   "file_extension": ".py",
   "mimetype": "text/x-python",
   "name": "python",
   "nbconvert_exporter": "python",
   "pygments_lexer": "ipython3",
   "version": "3.11.3"
  }
 },
 "nbformat": 4,
 "nbformat_minor": 2
}
